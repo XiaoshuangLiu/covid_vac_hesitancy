{
 "cells": [
  {
   "cell_type": "markdown",
   "id": "24c90f42-7c09-4bd5-bbf4-c3e5623bfec6",
   "metadata": {},
   "source": [
    "# Process holdout dataset"
   ]
  },
  {
   "cell_type": "markdown",
   "id": "e5de2696-baf3-45d7-88f0-15dbf3cb72a7",
   "metadata": {},
   "source": [
    "## Data process v5"
   ]
  },
  {
   "cell_type": "code",
   "execution_count": 1,
   "id": "0906b77a-a4e5-4c23-8fc8-0bbc7a20bd1a",
   "metadata": {},
   "outputs": [
    {
     "name": "stdout",
     "output_type": "stream",
     "text": [
      "Python version\n",
      "3.6.13 |Anaconda, Inc.| (default, Jun  4 2021, 14:25:59) \n",
      "[GCC 7.5.0]\n"
     ]
    }
   ],
   "source": [
    "import sys\n",
    "print(\"Python version\")\n",
    "print (sys.version)"
   ]
  },
  {
   "cell_type": "code",
   "execution_count": 2,
   "id": "dbc2988d-9054-4d48-9c20-966cd5cbba92",
   "metadata": {},
   "outputs": [],
   "source": [
    "import matplotlib.pyplot as plt\n",
    "import seaborn as sns\n",
    "from tqdm.notebook import tqdm\n",
    "import pandas as pd\n",
    "import sklearn\n",
    "import numpy as np\n",
    "from numpy import sqrt\n",
    "from numpy import argmax\n",
    "from scipy import stats\n",
    "import os\n",
    "import pickle\n",
    "import itertools\n",
    "from sklearn import linear_model, preprocessing\n",
    "from sklearn.preprocessing import normalize\n",
    "from sklearn.model_selection import train_test_split, KFold, GroupKFold\n",
    "from sklearn.metrics import explained_variance_score, r2_score, mean_squared_error\n",
    "from sklearn.experimental import enable_hist_gradient_boosting  # noqa\n",
    "from sklearn.model_selection import train_test_split\n",
    "from sklearn.linear_model import LogisticRegression\n",
    "from sklearn.tree import export_graphviz\n",
    "from sklearn.tree import DecisionTreeClassifier\n",
    "from sklearn.ensemble import RandomForestClassifier\n",
    "from sklearn.ensemble import AdaBoostClassifier\n",
    "from sklearn.ensemble import GradientBoostingClassifier\n",
    "from sklearn.ensemble import IsolationForest\n",
    "from sklearn.neural_network import MLPClassifier\n",
    "from sklearn.naive_bayes import GaussianNB\n",
    "from sklearn.svm import SVC\n",
    "from sklearn.gaussian_process import GaussianProcessClassifier\n",
    "from sklearn.gaussian_process.kernels import RBF\n",
    "from sklearn.neighbors import KNeighborsClassifier\n",
    "from sklearn.neural_network import MLPClassifier\n",
    "from sklearn.metrics import classification_report\n",
    "from sklearn.metrics import roc_auc_score\n",
    "from sklearn.metrics import f1_score\n",
    "from sklearn.metrics import precision_score, recall_score, roc_auc_score, roc_curve\n",
    "from sklearn.metrics import precision_recall_fscore_support, auc, average_precision_score, precision_recall_curve\n",
    "from sklearn.metrics import confusion_matrix\n",
    "from sklearn.metrics import accuracy_score\n",
    "from sklearn import manifold\n",
    "from sklearn.decomposition import PCA, FastICA, TruncatedSVD, SparsePCA, sparse_encode, FactorAnalysis, KernelPCA\n",
    "import time"
   ]
  },
  {
   "cell_type": "code",
   "execution_count": 3,
   "id": "66158798-7ba4-4026-ab3b-edddb8c1e2c4",
   "metadata": {},
   "outputs": [],
   "source": [
    "pd.set_option('display.max_columns', None)"
   ]
  },
  {
   "cell_type": "markdown",
   "id": "4e7e4938-0581-4ee7-8a94-a314c6658445",
   "metadata": {
    "tags": []
   },
   "source": [
    "## Load training and holdout set"
   ]
  },
  {
   "cell_type": "code",
   "execution_count": 4,
   "id": "ef0c0f15-3b0f-4ad7-8018-12fafe4df98e",
   "metadata": {},
   "outputs": [],
   "source": [
    "train_df = pd.read_csv('data/training_removed_missing_v5.csv', nrows=100, index_col='ID')"
   ]
  },
  {
   "cell_type": "code",
   "execution_count": 7,
   "id": "dde77526-d860-420b-8f37-85bb0e3cf33c",
   "metadata": {},
   "outputs": [],
   "source": [
    "holdout_df = pd.read_csv('data/2021_Competition_Holdout.csv', low_memory=False)\n",
    "holdout_df = holdout_df.drop('Unnamed: 0', axis=1)\n",
    "holdout_df = holdout_df.set_index('ID', drop=True)\n",
    "holdout_df = holdout_df.replace({'*': np.nan})"
   ]
  },
  {
   "cell_type": "code",
   "execution_count": 8,
   "id": "1a48e570-c7db-459f-99ab-73dd83c6e8ef",
   "metadata": {},
   "outputs": [
    {
     "data": {
      "text/plain": [
       "308"
      ]
     },
     "execution_count": 8,
     "metadata": {},
     "output_type": "execute_result"
    }
   ],
   "source": [
    "train_df.drop('covid_vaccination', axis=1).columns.size"
   ]
  },
  {
   "cell_type": "code",
   "execution_count": 9,
   "id": "61ba04b8-5ffb-40a1-ac91-f1a65a85233d",
   "metadata": {},
   "outputs": [],
   "source": [
    "holdout_df = holdout_df[train_df.drop('covid_vaccination', axis=1).columns]"
   ]
  },
  {
   "cell_type": "code",
   "execution_count": 10,
   "id": "90fea0c1-fdab-440b-99c6-231a27da0ed6",
   "metadata": {},
   "outputs": [
    {
     "data": {
      "text/plain": [
       "(525158, 308)"
      ]
     },
     "execution_count": 10,
     "metadata": {},
     "output_type": "execute_result"
    }
   ],
   "source": [
    "holdout_df.shape"
   ]
  },
  {
   "cell_type": "code",
   "execution_count": 11,
   "id": "8aac8db1-5d99-4ff0-beac-6bc2b1886313",
   "metadata": {},
   "outputs": [
    {
     "name": "stdout",
     "output_type": "stream",
     "text": [
      "cms_orig_reas_entitle_cd\n",
      "sex_cd\n",
      "race_cd\n"
     ]
    }
   ],
   "source": [
    "cd_set = []\n",
    "for name in holdout_df.columns.values:\n",
    "    if '_cd' in name:\n",
    "        print(name)\n",
    "        cd_set.append(name)"
   ]
  },
  {
   "cell_type": "code",
   "execution_count": 12,
   "id": "bce00638-26b9-4d1f-aac0-fbf28a8cec36",
   "metadata": {},
   "outputs": [
    {
     "name": "stdout",
     "output_type": "stream",
     "text": [
      "src_div_id\n"
     ]
    }
   ],
   "source": [
    "id_set = []\n",
    "for name in train_df.columns.values:\n",
    "    if '_id' in name:\n",
    "        print(name)\n",
    "        id_set.append(name)"
   ]
  },
  {
   "cell_type": "code",
   "execution_count": 13,
   "id": "62feffc2-facf-436b-a8eb-1fc8f77da341",
   "metadata": {},
   "outputs": [
    {
     "data": {
      "text/plain": [
       "84"
      ]
     },
     "execution_count": 13,
     "metadata": {},
     "output_type": "execute_result"
    }
   ],
   "source": [
    "categorical_features = ( set(holdout_df.columns) - set(holdout_df.describe().columns) ) | set(cd_set) | set(id_set)\n",
    "len(categorical_features)"
   ]
  },
  {
   "cell_type": "code",
   "execution_count": 14,
   "id": "c073f494-a0c3-4e48-9d4f-23efd35e5b25",
   "metadata": {},
   "outputs": [],
   "source": [
    "for col in categorical_features:\n",
    "    holdout_df[col] = holdout_df[col].astype(float, errors='ignore')"
   ]
  },
  {
   "cell_type": "code",
   "execution_count": 15,
   "id": "31cdfed9-1096-42b8-8a4b-c435f3567c9f",
   "metadata": {},
   "outputs": [],
   "source": [
    "holdout_df['src_div_id'] = holdout_df['src_div_id'].fillna(0).astype(int, errors='ignore')"
   ]
  },
  {
   "cell_type": "code",
   "execution_count": 16,
   "id": "a1777fc3-77bb-4dc2-8a58-f46118b61c26",
   "metadata": {},
   "outputs": [
    {
     "data": {
      "text/plain": [
       "53"
      ]
     },
     "execution_count": 16,
     "metadata": {},
     "output_type": "execute_result"
    }
   ],
   "source": [
    "# rerun to see changes\n",
    "categorical_features = ( set(holdout_df.columns) - set(holdout_df.describe().columns) ) | set(cd_set) | set(id_set)\n",
    "len(categorical_features)"
   ]
  },
  {
   "cell_type": "markdown",
   "id": "6c1e0d70-e005-4259-9be2-d427645e2891",
   "metadata": {
    "tags": []
   },
   "source": [
    "## Add missing values"
   ]
  },
  {
   "cell_type": "code",
   "execution_count": 17,
   "id": "e99edca7-298f-4fbb-affe-5d83dd75b1de",
   "metadata": {},
   "outputs": [
    {
     "data": {
      "text/plain": [
       "179"
      ]
     },
     "execution_count": 17,
     "metadata": {},
     "output_type": "execute_result"
    }
   ],
   "source": [
    "holdout_df.isnull().any().sum()"
   ]
  },
  {
   "cell_type": "code",
   "execution_count": 18,
   "id": "b3829f67-29a8-4046-b927-2aa7ac0719ae",
   "metadata": {
    "scrolled": true,
    "tags": []
   },
   "outputs": [
    {
     "name": "stdout",
     "output_type": "stream",
     "text": [
      "numerical: atlas_pct_laccess_child15\n",
      "numerical: atlas_recfacpth14\n",
      "numerical: atlas_pct_fmrkt_frveg16\n",
      "numerical: atlas_pct_free_lunch14\n",
      "numerical: cons_chmi\n",
      "categorical: mcc_ano_pmpm_ct_t_9-6-3m_b4\n",
      "numerical: cons_ltmedicr\n",
      "numerical: rx_gpi4_6110_pmpm_ct\n",
      "numerical: atlas_pc_snapben15\n",
      "numerical: credit_bal_nonmtgcredit_60dpd\n",
      "numerical: atlas_pct_laccess_nhna15\n",
      "numerical: credit_hh_nonmtgcredit_60dpd\n",
      "numerical: rx_bh_pmpm_ct_0to3m_b4\n",
      "numerical: cons_lwcm10\n",
      "numerical: atlas_fsrpth14\n",
      "numerical: auth_3mth_dc_home\n",
      "numerical: atlas_wicspth12\n",
      "categorical: rx_gpi2_17_pmpm_cost_t_12-9-6m_b4\n",
      "numerical: cons_hxmioc\n",
      "numerical: atlas_ghveg_farms12\n",
      "numerical: credit_hh_bankcardcredit_60dpd\n",
      "numerical: total_outpatient_allowed_pmpm_cost_6to9m_b4\n",
      "numerical: cons_cwht\n",
      "numerical: atlas_netmigrationrate1016\n",
      "numerical: atlas_pct_laccess_snap15\n",
      "numerical: atlas_retirement_destination_2015_upda\n",
      "numerical: atlas_naturalchangerate1016\n",
      "numerical: atlas_pct_laccess_hisp15\n",
      "numerical: auth_3mth_dc_no_ref\n",
      "numerical: auth_3mth_dc_snf\n",
      "numerical: atlas_pct_laccess_hhnv15\n",
      "numerical: auth_3mth_psychic\n",
      "numerical: atlas_hiamenity\n",
      "numerical: auth_3mth_bh_acute\n",
      "numerical: credit_bal_consumerfinance\n",
      "numerical: rwjf_uninsured_pct\n",
      "categorical: bh_urgent_care_copay_pmpm_cost_t_12-9-6m_b4\n",
      "numerical: atlas_pct_wic15\n",
      "numerical: atlas_pct_fmrkt_baked16\n",
      "numerical: auth_3mth_acute_skn\n",
      "numerical: atlas_veg_farms12\n",
      "numerical: atlas_vlfoodsec_13_15\n",
      "numerical: rx_gpi2_34_dist_gpi6_pmpm_ct\n",
      "numerical: credit_hh_bankcard_severederog\n",
      "numerical: atlas_pct_laccess_seniors15\n",
      "numerical: rwjf_uninsured_adults_pct\n",
      "numerical: rwjf_air_pollute_density\n",
      "numerical: atlas_recfac14\n",
      "categorical: cons_mobplus\n",
      "numerical: lab_albumin_loinc_pmpm_ct\n",
      "numerical: atlas_pct_obese_adults13\n",
      "numerical: atlas_pct_sfsp15\n",
      "numerical: total_physician_office_net_paid_pmpm_cost_9to12m_b4\n",
      "numerical: atlas_pc_dirsales12\n",
      "categorical: rej_med_outpatient_visit_ct_pmpm_t_6-3-0m_b4\n",
      "numerical: cms_tot_partd_payment_amt\n",
      "numerical: cons_stlnindx\n",
      "numerical: atlas_hipov_1115\n",
      "numerical: atlas_redemp_snaps16\n",
      "numerical: atlas_berry_farms12\n",
      "numerical: rwjf_inactivity_pct\n",
      "numerical: rx_gpi2_72_pmpm_ct_6to9m_b4\n",
      "numerical: cons_n2pmr\n",
      "numerical: atlas_foodhub16\n",
      "numerical: auth_3mth_acute_dig\n",
      "numerical: auth_3mth_dc_acute_rehab\n",
      "numerical: atlas_pct_fmrkt_anmlprod16\n",
      "numerical: credit_num_agencyfirstmtg\n",
      "numerical: atlas_type_2015_mining_no\n",
      "numerical: atlas_agritrsm_rct12\n",
      "numerical: atlas_pct_laccess_pop15\n",
      "numerical: atlas_povertyallagespct\n",
      "numerical: rwjf_uninsured_child_pct\n",
      "categorical: med_outpatient_deduct_pmpm_cost_t_9-6-3m_b4\n",
      "numerical: credit_bal_mtgcredit_new\n",
      "numerical: atlas_low_employment_2015_update\n",
      "numerical: atlas_pct_diabetes_adults13\n",
      "numerical: atlas_pct_laccess_nhasian15\n",
      "numerical: atlas_net_international_migration_rate\n",
      "numerical: auth_3mth_non_er\n",
      "numerical: atlas_foodinsec_child_03_11\n",
      "numerical: atlas_pc_wic_redemp12\n",
      "numerical: rwjf_mv_deaths_rate\n",
      "numerical: atlas_pct_reduced_lunch14\n",
      "numerical: cons_nwperadult\n",
      "categorical: cms_orig_reas_entitle_cd\n",
      "numerical: atlas_pct_loclfarm12\n",
      "numerical: total_outpatient_mbr_resp_pmpm_cost_6to9m_b4\n",
      "numerical: atlas_pct_nslp15\n",
      "numerical: atlas_pct_laccess_lowi15\n",
      "numerical: atlas_pct_fmrkt_sfmnp16\n",
      "numerical: atlas_pct_loclsale12\n",
      "numerical: credit_bal_autobank\n",
      "numerical: atlas_type_2015_recreation_no\n",
      "numerical: atlas_type_2015_update\n",
      "numerical: cms_risk_adjustment_factor_a_amt\n",
      "numerical: auth_3mth_post_acute\n",
      "numerical: auth_3mth_facility\n",
      "numerical: atlas_population_loss_2015_update\n",
      "numerical: credit_num_autofinance\n",
      "numerical: cons_rxmaint\n",
      "numerical: auth_3mth_home\n",
      "numerical: cons_hxwearbl\n",
      "numerical: atlas_pct_laccess_black15\n",
      "numerical: atlas_farm_to_school13\n",
      "numerical: atlas_dirsales_farms12\n",
      "numerical: rev_cms_ansth_pmpm_ct\n",
      "numerical: atlas_convspth14\n",
      "numerical: total_med_allowed_pmpm_cost_9to12m_b4\n",
      "numerical: auth_3mth_acute\n",
      "numerical: atlas_pc_ffrsales12\n",
      "numerical: credit_bal_bankcard_severederog\n",
      "numerical: atlas_povertyunder18pct\n",
      "numerical: cons_estinv30_rc\n",
      "numerical: atlas_veg_acrespth12\n",
      "numerical: atlas_grocpth14\n",
      "numerical: rx_gpi2_90_dist_gpi6_pmpm_ct_9to12m_b4\n",
      "numerical: atlas_csa12\n",
      "categorical: cons_hhcomp\n",
      "numerical: cons_rxadhs\n",
      "numerical: atlas_pct_fmrkt_snap16\n",
      "numerical: cms_partd_ra_factor_amt\n",
      "numerical: atlas_pct_sbp15\n",
      "numerical: rwjf_resident_seg_black_inx\n",
      "numerical: atlas_pct_cacfp15\n",
      "numerical: atlas_ffrpth14\n",
      "numerical: credit_num_autobank_new\n",
      "numerical: cons_n2pwh\n",
      "numerical: atlas_berry_acrespth12\n",
      "numerical: atlas_pct_fmrkt_credit16\n",
      "numerical: atlas_slhouse12\n",
      "numerical: atlas_pc_fsrsales12\n",
      "numerical: credit_hh_1stmtgcredit\n",
      "numerical: auth_3mth_snf_post_hsp\n",
      "numerical: atlas_pct_fmrkt_wiccash16\n",
      "numerical: atlas_foodinsec_13_15\n",
      "numerical: cons_rxadhm\n",
      "numerical: atlas_fmrktpth16\n",
      "numerical: cons_n2phi\n",
      "numerical: bh_physician_office_copay_pmpm_cost_6to9m_b4\n",
      "numerical: rwjf_income_inequ_ratio\n",
      "numerical: rej_total_physician_office_visit_ct_pmpm_0to3m_b4\n",
      "numerical: credit_num_nonmtgcredit_60dpd\n",
      "numerical: credit_bal_autofinance_new\n",
      "numerical: rwjf_men_hlth_prov_ratio\n",
      "numerical: auth_3mth_dc_home_health\n",
      "numerical: rx_gpi2_56_dist_gpi6_pmpm_ct_3to6m_b4\n",
      "numerical: auth_3mth_acute_cir\n",
      "categorical: med_ambulance_coins_pmpm_cost_t_9-6-3m_b4\n",
      "categorical: hedis_dia_hba1c_ge9\n",
      "numerical: atlas_pct_snap16\n",
      "numerical: atlas_ghveg_sqftpth12\n",
      "numerical: atlas_orchard_acrespth12\n",
      "numerical: atlas_persistentchildpoverty_1980_2011\n",
      "numerical: atlas_pct_laccess_multir15\n",
      "numerical: cons_cgqs\n",
      "numerical: ccsp_065_pmpm_ct\n",
      "numerical: atlas_medhhinc\n",
      "numerical: rwjf_mental_distress_pct\n",
      "categorical: bh_ip_snf_admit_days_pmpm_t_9-6-3m_b4\n",
      "numerical: atlas_pct_laccess_nhpi15\n",
      "numerical: auth_3mth_post_er\n",
      "numerical: credit_num_consumerfinance_new\n",
      "numerical: cons_chva\n",
      "numerical: atlas_orchard_farms12\n",
      "categorical: total_physician_office_visit_ct_pmpm_t_6-3-0m_b4\n",
      "numerical: atlas_pct_fmrkt_wic16\n",
      "numerical: rx_gpi2_33_pmpm_ct_0to3m_b4\n",
      "numerical: rwjf_social_associate_rate\n",
      "numerical: atlas_freshveg_farms12\n",
      "numerical: auth_3mth_acute_sns\n",
      "numerical: auth_3mth_dc_other\n",
      "numerical: auth_3mth_bh_acute_mean_los\n",
      "numerical: cons_lwcm07\n",
      "numerical: atlas_pct_fmrkt_otherfood16\n",
      "numerical: atlas_perpov_1980_0711\n",
      "numerical: atlas_pct_laccess_white15\n",
      "numerical: atlas_low_education_2015_update\n",
      "categorical: race_cd\n"
     ]
    }
   ],
   "source": [
    "# Use mean or mode\n",
    "for name in holdout_df.columns:\n",
    "    if holdout_df[name].hasnans:\n",
    "        if name in categorical_features:\n",
    "            print('categorical:', name)\n",
    "            holdout_df[name].fillna(holdout_df[name].mode()[0], inplace=True)\n",
    "        elif holdout_df[name].dtypes == float:\n",
    "            print('numerical:', name)\n",
    "            holdout_df[name].fillna(holdout_df[name].mean(), inplace=True)\n",
    "        else:\n",
    "            print(name)"
   ]
  },
  {
   "cell_type": "code",
   "execution_count": 19,
   "id": "583ccac8-e8e6-4f05-9c12-c7f94d10f5ae",
   "metadata": {},
   "outputs": [
    {
     "data": {
      "text/plain": [
       "0"
      ]
     },
     "execution_count": 19,
     "metadata": {},
     "output_type": "execute_result"
    }
   ],
   "source": [
    "holdout_df.isnull().any().sum()"
   ]
  },
  {
   "cell_type": "code",
   "execution_count": 20,
   "id": "015cf45d-6a03-4479-8634-bb7e2f867a82",
   "metadata": {},
   "outputs": [],
   "source": [
    "holdout_df.to_csv('data/holdout_removed_missing_v5.csv')"
   ]
  },
  {
   "cell_type": "markdown",
   "id": "7f960c47-0015-432d-a092-6a8f79326569",
   "metadata": {
    "tags": []
   },
   "source": [
    "## Transform ordinal features"
   ]
  },
  {
   "cell_type": "code",
   "execution_count": 21,
   "id": "c7b0544c-00c6-45f1-a233-850f9dfa85dd",
   "metadata": {},
   "outputs": [
    {
     "name": "stderr",
     "output_type": "stream",
     "text": [
      "/home/ywang/miniconda3/envs/python36/lib/python3.6/site-packages/ipykernel_launcher.py:4: FutureWarning: elementwise comparison failed; returning scalar instead, but in the future will perform elementwise comparison\n",
      "  after removing the cwd from sys.path.\n"
     ]
    },
    {
     "name": "stdout",
     "output_type": "stream",
     "text": [
      "{'Dec_over_8x', 'Resolved', 'No_Change', 'New', 'Inc_2x-4x', 'Inc_1x-2x', 'Dec_4x-8x', 'Inc_4x-8x', 'Dec_1x-2x', 'Inc_over_8x', 'No Activity', 'Dec_2x-4x'}\n"
     ]
    }
   ],
   "source": [
    "ordered_cat_set = set([])\n",
    "ordered_cat = []\n",
    "for name in categorical_features:\n",
    "    if 'No Activity' in holdout_df[name].unique():\n",
    "        ordered_cat_set = ordered_cat_set | set(holdout_df[name].unique())\n",
    "        ordered_cat.append(name)\n",
    "print(ordered_cat_set)"
   ]
  },
  {
   "cell_type": "code",
   "execution_count": 22,
   "id": "ab730e74-f969-4d80-a49a-532e03ed42ed",
   "metadata": {},
   "outputs": [
    {
     "data": {
      "text/plain": [
       "45"
      ]
     },
     "execution_count": 22,
     "metadata": {},
     "output_type": "execute_result"
    }
   ],
   "source": [
    "len(ordered_cat)"
   ]
  },
  {
   "cell_type": "code",
   "execution_count": 23,
   "id": "9464556d-9c58-4ded-ae7c-57ef80c69fac",
   "metadata": {},
   "outputs": [
    {
     "data": {
      "text/plain": [
       "12"
      ]
     },
     "execution_count": 23,
     "metadata": {},
     "output_type": "execute_result"
    }
   ],
   "source": [
    "len(ordered_cat_set)"
   ]
  },
  {
   "cell_type": "code",
   "execution_count": 24,
   "id": "d63aa5e5-b9f3-4d38-a1b7-f51a093b7611",
   "metadata": {},
   "outputs": [],
   "source": [
    "ordered_cat_transform_tab = {'Inc_over_8x': 8,\n",
    "                             'Inc_4x-8x': 6,\n",
    "                             'Inc_2x-4x': 3,\n",
    "                             'Inc_1x-2x': 1.5,\n",
    "                             'No_Change': 0,\n",
    "                             'Dec_1x-2x': -1.5,\n",
    "                             'Dec_2x-4x': -3,\n",
    "                             'Dec_4x-8x': -6,\n",
    "                             'Dec_over_8x': -8,\n",
    "                             'Resolved': -10, \n",
    "                             'No Activity': 0.5,\n",
    "                             'New': 10}"
   ]
  },
  {
   "cell_type": "code",
   "execution_count": 25,
   "id": "69b8ae09-871d-4946-9669-c98a706f86af",
   "metadata": {},
   "outputs": [],
   "source": [
    "for name in ordered_cat:\n",
    "    holdout_df[name] = holdout_df[name].map(ordered_cat_transform_tab)"
   ]
  },
  {
   "cell_type": "markdown",
   "id": "73bfd812-5142-4da5-a890-145cbcdf63cc",
   "metadata": {
    "tags": []
   },
   "source": [
    "## Transform categorical features"
   ]
  },
  {
   "cell_type": "code",
   "execution_count": 26,
   "id": "fbf0789e-068a-4d0d-ab12-64c1e1c5efdb",
   "metadata": {},
   "outputs": [
    {
     "name": "stdout",
     "output_type": "stream",
     "text": [
      "race_cd (525158, 315)\n",
      "hedis_dia_hba1c_ge9 (525158, 317)\n",
      "hum_region (525158, 333)\n",
      "src_div_id (525158, 339)\n",
      "sex_cd (525158, 341)\n",
      "cons_hhcomp (525158, 354)\n",
      "cons_mobplus (525158, 358)\n",
      "cms_orig_reas_entitle_cd (525158, 362)\n"
     ]
    }
   ],
   "source": [
    "for name in set(categorical_features) - set(ordered_cat) :\n",
    "    holdout_df = pd.concat([holdout_df.drop(name, axis=1), pd.get_dummies(holdout_df[name], prefix=name, dummy_na=True)], axis=1)\n",
    "    print(name, holdout_df.shape)"
   ]
  },
  {
   "cell_type": "code",
   "execution_count": 27,
   "id": "fb9b341a-5e34-45ab-a146-64c8c80c6a7e",
   "metadata": {},
   "outputs": [
    {
     "data": {
      "text/plain": [
       "(525158, 362)"
      ]
     },
     "execution_count": 27,
     "metadata": {},
     "output_type": "execute_result"
    }
   ],
   "source": [
    "holdout_df.shape"
   ]
  },
  {
   "cell_type": "markdown",
   "id": "2884b95a-1b46-4b89-9dd0-534056db30ce",
   "metadata": {},
   "source": [
    "## change column orders"
   ]
  },
  {
   "cell_type": "code",
   "execution_count": 187,
   "id": "d158fcdf-4dae-4d24-939a-ecca354c7eee",
   "metadata": {},
   "outputs": [],
   "source": [
    "train_df = pd.read_csv('data/training_cleaned_v5.csv', index_col='ID', nrows=20000)\n",
    "X_train = train_df.drop('covid_vaccination', axis=1)\n",
    "y_train = train_df['covid_vaccination']"
   ]
  },
  {
   "cell_type": "code",
   "execution_count": 29,
   "id": "9030293f-22ad-4c4f-86ab-1986933ef260",
   "metadata": {},
   "outputs": [
    {
     "data": {
      "text/plain": [
       "362"
      ]
     },
     "execution_count": 29,
     "metadata": {},
     "output_type": "execute_result"
    }
   ],
   "source": [
    "X_train.columns.size"
   ]
  },
  {
   "cell_type": "code",
   "execution_count": 30,
   "id": "4ff95dc8-fb9c-4220-9eae-ca11d7cee75f",
   "metadata": {},
   "outputs": [
    {
     "data": {
      "text/plain": [
       "362"
      ]
     },
     "execution_count": 30,
     "metadata": {},
     "output_type": "execute_result"
    }
   ],
   "source": [
    "holdout_df.columns.size"
   ]
  },
  {
   "cell_type": "code",
   "execution_count": 31,
   "id": "fe8b4c14-7fd0-4b99-abb5-6b8434616e9a",
   "metadata": {},
   "outputs": [
    {
     "data": {
      "text/plain": [
       "set()"
      ]
     },
     "execution_count": 31,
     "metadata": {},
     "output_type": "execute_result"
    }
   ],
   "source": [
    "set(X_train.columns) - set(holdout_df.columns)"
   ]
  },
  {
   "cell_type": "code",
   "execution_count": 32,
   "id": "2b2b342a-c62e-4b5a-b63d-ad7dd314f106",
   "metadata": {},
   "outputs": [
    {
     "data": {
      "text/plain": [
       "True"
      ]
     },
     "execution_count": 32,
     "metadata": {},
     "output_type": "execute_result"
    }
   ],
   "source": [
    "set(X_train.columns) == set(holdout_df.columns)"
   ]
  },
  {
   "cell_type": "code",
   "execution_count": 33,
   "id": "7147d903-a047-4bbd-99ff-4b4c3b8ccd21",
   "metadata": {},
   "outputs": [],
   "source": [
    "holdout_df = holdout_df[X_train.columns]"
   ]
  },
  {
   "cell_type": "code",
   "execution_count": 34,
   "id": "df6bd4f5-6357-4cf0-94ee-e083b481159b",
   "metadata": {},
   "outputs": [],
   "source": [
    "holdout_df.to_csv('data/holdout_cleaned_v5.csv')"
   ]
  },
  {
   "cell_type": "markdown",
   "id": "35b4616c-1d47-481d-962b-8be5d156a7f2",
   "metadata": {},
   "source": [
    "# Restart here"
   ]
  },
  {
   "cell_type": "markdown",
   "id": "92994644-ded4-49ee-a4f2-c74d24711472",
   "metadata": {},
   "source": [
    "## Readin cleaned holdout data"
   ]
  },
  {
   "cell_type": "code",
   "execution_count": 44,
   "id": "b98ac8fe-dbbc-428f-9685-8a4e6f9737e0",
   "metadata": {},
   "outputs": [],
   "source": [
    "if 0:\n",
    "    holdout_df = pd.read_csv('data/holdout_cleaned_v5.csv', index_col='ID')"
   ]
  },
  {
   "cell_type": "code",
   "execution_count": 181,
   "id": "b8f5c054-6113-4396-9fac-238a0ad33907",
   "metadata": {},
   "outputs": [
    {
     "data": {
      "text/plain": [
       "(100, 362)"
      ]
     },
     "execution_count": 181,
     "metadata": {},
     "output_type": "execute_result"
    }
   ],
   "source": [
    "X_train.shape"
   ]
  },
  {
   "cell_type": "code",
   "execution_count": 178,
   "id": "36f3ec7b-9bc0-494c-a4f9-573dcf33693c",
   "metadata": {},
   "outputs": [
    {
     "data": {
      "text/plain": [
       "(525158, 362)"
      ]
     },
     "execution_count": 178,
     "metadata": {},
     "output_type": "execute_result"
    }
   ],
   "source": [
    "holdout_df.shape"
   ]
  },
  {
   "cell_type": "code",
   "execution_count": 167,
   "id": "a0fc3f39-9d22-489a-986d-7831d48dcc2b",
   "metadata": {},
   "outputs": [],
   "source": [
    "def make_result_csv(fn, probability_holdout, holdout_df):\n",
    "    assert probability_holdout.shape[0] == holdout_df.shape[0]\n",
    "    \n",
    "    col_names = ['ID', 'SCORE', 'RANK']\n",
    "    holdout = pd.DataFrame(holdout_df.reset_index()['ID'])\n",
    "    holdout['SCORE'] = 1 - probability_holdout\n",
    "    holdout = holdout.sort_values('SCORE', ascending=False)\n",
    "\n",
    "    quantile = holdout['SCORE'].quantile(np.arange(0, 1, 0.1))\n",
    "    holdout['SCORE'].describe()\n",
    "\n",
    "    rank = 10\n",
    "    for t in quantile:\n",
    "        holdout.loc[holdout['SCORE'] >= t, 'RANK'] = rank\n",
    "        rank -= 1\n",
    "\n",
    "    #print(pd.DataFrame(holdout.groupby('RANK').SCORE.mean()))\n",
    "\n",
    "    holdout.to_csv(f'predictions/{fn}', index=False)\n",
    "    print('-'*40)\n",
    "    print(f'File saved to: predictions/{fn}')\n",
    "    return holdout"
   ]
  },
  {
   "cell_type": "code",
   "execution_count": 194,
   "id": "08e6f4a3-191e-415b-9408-a19967dd4b80",
   "metadata": {},
   "outputs": [],
   "source": [
    "def cal_AI_fairness(X_train, y_train, probability_train, cols, ref_col):\n",
    "    fairness = []\n",
    "    for col in cols:\n",
    "        if X_train.loc[X_train[col]==1].shape[0] > 0:\n",
    "            probability_train_df = pd.DataFrame(y_train.copy(deep=True))\n",
    "            probability_train_df['score'] = probability_train\n",
    "\n",
    "            y_train_ref = probability_train_df.loc[X_train.loc[X_train[ref_col]==1].index]['covid_vaccination']\n",
    "            probability_train_ref = probability_train_df.loc[X_train.loc[X_train[ref_col]==1].index]['score']\n",
    "            S0 = roc_auc_score(y_train_ref, probability_train_ref)\n",
    "\n",
    "            y_train_minor = probability_train_df.loc[X_train.loc[X_train[col]==1].index]['covid_vaccination']\n",
    "            probability_train_minor = probability_train_df.loc[X_train.loc[X_train[col]==1].index]['score']    \n",
    "            Sn = roc_auc_score(y_train_minor, probability_train_minor)\n",
    "\n",
    "            print(col, S0, Sn, min(1, Sn/S0))\n",
    "            fairness.append(min(1, Sn/S0))\n",
    "    return fairness"
   ]
  },
  {
   "cell_type": "code",
   "execution_count": 195,
   "id": "024f406e-a04a-4e7f-83d7-5b40c5eafa9d",
   "metadata": {},
   "outputs": [],
   "source": [
    "def make_prediction_csv(clf_name):\n",
    "#     clf_name = 'Random Forest 300x15 v5'\n",
    "    clf, T_dev = pickle.load(open(f'best_models/{clf_name}_model.pk', \"rb\"))\n",
    "\n",
    "    print(clf_name)\n",
    "    print('-'*40)\n",
    "    print('Training set:', end='\\t')\n",
    "    probability_train = clf.predict_proba(X_train)[:, 1]\n",
    "    predict_train = [\"vacc\" if x > T_dev else \"no_vacc\" for x in probability_train]\n",
    "    print('Frac vacc:', \"%.5f\" %(predict_train.count('vacc')/len(predict_train)), 'Avg score:', \"%.5f\" %np.mean(probability_train))\n",
    "    Train_AUROC = roc_auc_score(y_train, probability_train)\n",
    "    print('Train_AUROC:', Train_AUROC)\n",
    "    \n",
    "    race_cols = ['race_cd_0.0', 'race_cd_1.0', 'race_cd_2.0', 'race_cd_3.0', 'race_cd_4.0', 'race_cd_5.0', 'race_cd_6.0']\n",
    "    fairness = cal_AI_fairness(X_train, y_train, probability_train, sex_cols, 'sex_cd_M') +\\\n",
    "               cal_AI_fairness(X_train, y_train, probability_train, race_cols, 'race_cd_1.0')\n",
    "\n",
    "    print('AI_fairness:', np.mean(fairness))\n",
    "    print('-'*40) \n",
    "    print('Holdout set:', end='\\t')\n",
    "    probability_holdout = clf.predict_proba(holdout_df)[:, 1]\n",
    "    predict_holdout = [\"vacc\" if x > T_dev else \"no_vacc\" for x in probability_holdout]\n",
    "    print('Frac vacc:', \"%.5f\" %(predict_holdout.count('vacc')/len(predict_holdout)), 'Avg score:', \"%.5f\" % np.mean(probability_holdout) )\n",
    "\n",
    "    fn = f'Holdout-{clf_name}.csv'\n",
    "    holdout = make_result_csv(fn, probability_holdout, holdout_df)"
   ]
  },
  {
   "cell_type": "code",
   "execution_count": 196,
   "id": "17c0a2fb-51a4-43bd-abfa-5ef1464ec49c",
   "metadata": {},
   "outputs": [
    {
     "name": "stdout",
     "output_type": "stream",
     "text": [
      "Random Forest 300x15 v5\n",
      "----------------------------------------\n",
      "Training set:\tFrac vacc: 0.42295 Avg score: 0.42345\n",
      "Train_AUROC: 0.8017837145206113\n",
      "sex_cd_F 0.805039668305984 0.7983939526952029 0.9917448594492674\n",
      "sex_cd_M 0.805039668305984 0.805039668305984 1\n",
      "race_cd_0.0 0.799932659080699 0.7828292058850407 0.9786188837253951\n",
      "race_cd_1.0 0.799932659080699 0.799932659080699 1\n",
      "race_cd_2.0 0.799932659080699 0.8187070882893337 1\n",
      "race_cd_3.0 0.799932659080699 0.7568089430894308 0.9460908171434994\n",
      "race_cd_4.0 0.799932659080699 0.7683615819209039 0.9605328313559828\n",
      "race_cd_5.0 0.799932659080699 0.8324277952530741 1\n",
      "race_cd_6.0 0.799932659080699 0.9841269841269841 1\n",
      "AI_fairness: 0.9863319324082384\n",
      "----------------------------------------\n",
      "Holdout set:\tFrac vacc: 0.41876 Avg score: 0.42321\n",
      "----------------------------------------\n",
      "File saved to: predictions/Holdout-Random Forest 300x15 v5.csv\n"
     ]
    }
   ],
   "source": [
    "make_prediction_csv('Random Forest 300x15 v5')"
   ]
  },
  {
   "cell_type": "code",
   "execution_count": 197,
   "id": "5309ee68-074c-4c41-a46e-82f779e6d1bc",
   "metadata": {},
   "outputs": [
    {
     "name": "stdout",
     "output_type": "stream",
     "text": [
      "Random Forest 200x15 v5\n",
      "----------------------------------------\n",
      "Training set:\tFrac vacc: 0.44030 Avg score: 0.42338\n",
      "Train_AUROC: 0.8014444708126128\n",
      "sex_cd_F 0.8045445582087978 0.7981550459489855 0.9920582245015271\n",
      "sex_cd_M 0.8045445582087978 0.8045445582087978 1\n",
      "race_cd_0.0 0.7994929341389959 0.785844832312894 0.9829290525990702\n",
      "race_cd_1.0 0.7994929341389959 0.7994929341389959 1\n",
      "race_cd_2.0 0.7994929341389959 0.8183656077748765 1\n",
      "race_cd_3.0 0.7994929341389959 0.7520325203252033 0.9406368564533912\n",
      "race_cd_4.0 0.7994929341389959 0.7654710287741426 0.9574456459687255\n",
      "race_cd_5.0 0.7994929341389959 0.8307120388904775 1\n",
      "race_cd_6.0 0.7994929341389959 0.9841269841269841 1\n",
      "AI_fairness: 0.9858966421691905\n",
      "----------------------------------------\n",
      "Holdout set:\tFrac vacc: 0.43656 Avg score: 0.42318\n",
      "----------------------------------------\n",
      "File saved to: predictions/Holdout-Random Forest 200x15 v5.csv\n"
     ]
    }
   ],
   "source": [
    "make_prediction_csv('Random Forest 200x15 v5')"
   ]
  },
  {
   "cell_type": "code",
   "execution_count": 198,
   "id": "8b6eecb0-31ed-423e-9120-5d01d4ecf7b9",
   "metadata": {},
   "outputs": [
    {
     "name": "stdout",
     "output_type": "stream",
     "text": [
      "Gradient Boost 50x8 v5\n",
      "----------------------------------------\n",
      "Training set:\tFrac vacc: 0.44830 Avg score: 0.17365\n",
      "Train_AUROC: 0.7063274949973939\n",
      "sex_cd_F 0.7058586186555784 0.705388708786723 0.9993342719683009\n",
      "sex_cd_M 0.7058586186555784 0.7058586186555784 1\n",
      "race_cd_0.0 0.7017171725878572 0.7031435620944897 1\n",
      "race_cd_1.0 0.7017171725878572 0.7017171725878572 1\n",
      "race_cd_2.0 0.7017171725878572 0.7201672952325693 1\n",
      "race_cd_3.0 0.7017171725878572 0.6265243902439024 0.8928446028096307\n",
      "race_cd_4.0 0.7017171725878572 0.6736302719747734 0.9599740440874458\n",
      "race_cd_5.0 0.7017171725878572 0.7103231341149557 1\n",
      "race_cd_6.0 0.7017171725878572 0.9206349206349206 1\n",
      "AI_fairness: 0.9835725465405974\n",
      "----------------------------------------\n",
      "Holdout set:\tFrac vacc: 0.44884 Avg score: 0.17351\n",
      "----------------------------------------\n",
      "File saved to: predictions/Holdout-Gradient Boost 50x8 v5.csv\n"
     ]
    }
   ],
   "source": [
    "make_prediction_csv('Gradient Boost 50x8 v5')"
   ]
  },
  {
   "cell_type": "code",
   "execution_count": 199,
   "id": "0372dc8e-ca7c-4871-8314-dc2a611c57d9",
   "metadata": {},
   "outputs": [
    {
     "name": "stdout",
     "output_type": "stream",
     "text": [
      "Gradient Boost 100x8 v5\n",
      "----------------------------------------\n",
      "Training set:\tFrac vacc: 0.44875 Avg score: 0.17352\n",
      "Train_AUROC: 0.7277562942800816\n",
      "sex_cd_F 0.7291247983435698 0.7254533208209724 0.9949645416930842\n",
      "sex_cd_M 0.7291247983435698 0.7291247983435698 1\n",
      "race_cd_0.0 0.7230320263976775 0.7131499588778214 0.9863324622436285\n",
      "race_cd_1.0 0.7230320263976775 0.7230320263976775 1\n",
      "race_cd_2.0 0.7230320263976775 0.7527681075331206 1\n",
      "race_cd_3.0 0.7230320263976775 0.6626016260162602 0.9164208525001356\n",
      "race_cd_4.0 0.7230320263976775 0.6943896991196952 0.9603858110951387\n",
      "race_cd_5.0 0.7230320263976775 0.7466399771232486 1\n",
      "race_cd_6.0 0.7230320263976775 0.9285714285714286 1\n",
      "AI_fairness: 0.9842337408368874\n",
      "----------------------------------------\n",
      "Holdout set:\tFrac vacc: 0.44797 Avg score: 0.17323\n",
      "----------------------------------------\n",
      "File saved to: predictions/Holdout-Gradient Boost 100x8 v5.csv\n"
     ]
    }
   ],
   "source": [
    "make_prediction_csv('Gradient Boost 100x8 v5')"
   ]
  },
  {
   "cell_type": "code",
   "execution_count": 200,
   "id": "2d93856e-c466-4901-a637-50c8cc443b27",
   "metadata": {},
   "outputs": [
    {
     "name": "stdout",
     "output_type": "stream",
     "text": [
      "Gradient Boost 200x8 v5\n",
      "----------------------------------------\n",
      "Training set:\tFrac vacc: 0.44915 Avg score: 0.17316\n",
      "Train_AUROC: 0.7537582292448548\n",
      "sex_cd_F 0.756240682155467 0.7506814030906632 0.9926487966120012\n",
      "sex_cd_M 0.756240682155467 0.756240682155467 1\n",
      "race_cd_0.0 0.7498224602148217 0.7357671570867221 0.981255158555703\n",
      "race_cd_1.0 0.7498224602148217 0.7498224602148217 1\n",
      "race_cd_2.0 0.7498224602148217 0.7768319069722464 1\n",
      "race_cd_3.0 0.7498224602148217 0.7093495934959348 0.94602340038295\n",
      "race_cd_4.0 0.7498224602148217 0.7121271843384575 0.9497277317279017\n",
      "race_cd_5.0 0.7498224602148217 0.7968735106281575 1\n",
      "race_cd_6.0 0.7498224602148217 0.9285714285714286 1\n",
      "AI_fairness: 0.9855172319198395\n",
      "----------------------------------------\n",
      "Holdout set:\tFrac vacc: 0.44885 Avg score: 0.17268\n",
      "----------------------------------------\n",
      "File saved to: predictions/Holdout-Gradient Boost 200x8 v5.csv\n"
     ]
    }
   ],
   "source": [
    "make_prediction_csv('Gradient Boost 200x8 v5')"
   ]
  },
  {
   "cell_type": "markdown",
   "id": "e92e580a-b6a0-4dca-bb02-53fe1b5a8b30",
   "metadata": {},
   "source": [
    "## race_cd_3.0 has the lowest AI_fairness score"
   ]
  },
  {
   "cell_type": "code",
   "execution_count": null,
   "id": "198fde36-b35f-4e70-91c6-df74a5d38215",
   "metadata": {},
   "outputs": [],
   "source": []
  }
 ],
 "metadata": {
  "kernelspec": {
   "display_name": "Python 3",
   "language": "python",
   "name": "python3"
  },
  "language_info": {
   "codemirror_mode": {
    "name": "ipython",
    "version": 3
   },
   "file_extension": ".py",
   "mimetype": "text/x-python",
   "name": "python",
   "nbconvert_exporter": "python",
   "pygments_lexer": "ipython3",
   "version": "3.6.13"
  }
 },
 "nbformat": 4,
 "nbformat_minor": 5
}
